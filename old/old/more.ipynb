{
 "cells": [
  {
   "cell_type": "code",
   "execution_count": 1,
   "id": "renewable-framework",
   "metadata": {},
   "outputs": [
    {
     "name": "stdout",
     "output_type": "stream",
     "text": [
      "[{'artist': 'Sia', 'song': 'Reaper', 'section': 'Verse', 'url': 'http://www.hooktheory.com/theorytab/view/sia/reaper#verse'}, {'artist': 'Kazumi Totaka', 'song': \"Kaeru no Tame ni - The Prince's Adventure\", 'section': 'Verse', 'url': 'http://www.hooktheory.com/theorytab/view/kazumi-totaka/kaeru-no-tame-ni---the-princes-adventure#verse'}]\n"
     ]
    }
   ],
   "source": [
    "import requests\n",
    "import time\n",
    "import json\n",
    "from bs4 import BeautifulSoup\n",
    "from selenium import webdriver\n",
    "from webdriver_manager.chrome import ChromeDriverManager\n",
    "import random\n",
    "\n",
    "api_url = 'https://api.hooktheory.com/v1/'\n",
    "login = {\"username\": \"jl8429\",\n",
    "         \"password\": \"\"}\n",
    "\n",
    "r = requests.post(api_url+'users/auth', data=login)\n",
    "#print('r', r)\n",
    "#print(r.json())\n",
    "'''\n",
    "{'id': 136206, 'username': 'myUsername', 'activkey': 'myKey'}\n",
    "'''\n",
    "\n",
    "activkey = '0e11e1d65a021d0a883f309f813d74ad'\n",
    "header = {\"Authorization\": \"Bearer \"+activkey}"
   ]
  },
  {
   "cell_type": "code",
   "execution_count": 24,
   "id": "superb-tournament",
   "metadata": {},
   "outputs": [
    {
     "name": "stdout",
     "output_type": "stream",
     "text": [
      "4\n",
      "{'name': 'Internal Server Error', 'message': 'An internal server error occurred.', 'code': 0, 'status': 500}\n"
     ]
    }
   ],
   "source": [
    "mykey = '1,5,6,4'\n",
    "i = 20\n",
    "myData = requests.get(api_url+'trends/songs?cp='+mykey+'&page='+str(i), headers=header)\n",
    "print(len(myData.json()))\n",
    "print(myData.json())"
   ]
  }
 ],
 "metadata": {
  "kernelspec": {
   "display_name": "Python 3",
   "language": "python",
   "name": "python3"
  },
  "language_info": {
   "codemirror_mode": {
    "name": "ipython",
    "version": 3
   },
   "file_extension": ".py",
   "mimetype": "text/x-python",
   "name": "python",
   "nbconvert_exporter": "python",
   "pygments_lexer": "ipython3",
   "version": "3.6.12"
  }
 },
 "nbformat": 4,
 "nbformat_minor": 5
}
