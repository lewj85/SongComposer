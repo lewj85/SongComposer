{
 "cells": [
  {
   "cell_type": "code",
   "execution_count": 1,
   "id": "renewable-framework",
   "metadata": {},
   "outputs": [],
   "source": [
    "import requests\n",
    "import time\n",
    "import json\n",
    "from bs4 import BeautifulSoup\n",
    "from selenium import webdriver\n",
    "from webdriver_manager.chrome import ChromeDriverManager\n",
    "import random\n",
    "\n",
    "api_url = 'https://api.hooktheory.com/v1/'\n",
    "login = {\"username\": \"jl8429\",\n",
    "         \"password\": \"\"}\n",
    "\n",
    "r = requests.post(api_url+'users/auth', data=login)\n",
    "#print('r', r)\n",
    "#print(r.json())\n",
    "'''\n",
    "{'id': 136206, 'username': 'myUsername', 'activkey': 'myKey'}\n",
    "'''\n",
    "\n",
    "activkey = '0e11e1d65a021d0a883f309f813d74ad'\n",
    "header = {\"Authorization\": \"Bearer \"+activkey}"
   ]
  },
  {
   "cell_type": "code",
   "execution_count": 7,
   "id": "superb-tournament",
   "metadata": {},
   "outputs": [
    {
     "name": "stdout",
     "output_type": "stream",
     "text": [
      "b'{\"name\":\"Internal Server Error\",\"message\":\"An internal server error occurred.\",\"code\":0,\"status\":500}'\n"
     ]
    }
   ],
   "source": [
    "mykey = 'b7,56/6,264,5/2'\n",
    "page = 1\n",
    "myData = requests.get(api_url+'trends/songs?cp='+mykey, headers=header)\n",
    "#myData = requests.get(api_url+'trends/songs?cp='+mykey+'&page='+str(page), headers=header)\n",
    "print(myData.content)\n",
    "#print(len(myData.json()))\n",
    "#print(myData.json())"
   ]
  },
  {
   "cell_type": "code",
   "execution_count": 20,
   "id": "fiscal-minute",
   "metadata": {},
   "outputs": [
    {
     "name": "stdout",
     "output_type": "stream",
     "text": [
      "b'{\"name\":\"Internal Server Error\",\"message\":\"An internal server error occurred.\",\"code\":0,\"status\":500}'\n"
     ]
    }
   ],
   "source": [
    "mykey = '5,6,2,6'\n",
    "page = 1\n",
    "myData = requests.get(api_url+'trends/songs?cp='+mykey, headers=header)\n",
    "#myData = requests.get(api_url+'trends/songs?cp='+mykey+'&page='+str(page), headers=header)\n",
    "print(myData.content)\n",
    "#print(len(myData.json()))\n",
    "#print(myData.json())"
   ]
  },
  {
   "cell_type": "code",
   "execution_count": 18,
   "id": "specific-enough",
   "metadata": {},
   "outputs": [
    {
     "name": "stdout",
     "output_type": "stream",
     "text": [
      "http://www.hooktheory.com/theorytab/view/echotape/far-from-heaven\n",
      "http://www.hooktheory.com/theorytab/view/pink-floyd/welcome-to-the-machine\n",
      "http://www.hooktheory.com/theorytab/view/robert-miles/children\n",
      "http://www.hooktheory.com/theorytab/view/grimes/vanessa\n",
      "http://www.hooktheory.com/theorytab/view/klaus-badelt/hes-a-pirate\n",
      "http://www.hooktheory.com/theorytab/view/souleye/potential-for-anything\n",
      "http://www.hooktheory.com/theorytab/view/arctic-monkeys/do-i-wanna-know\n",
      "http://www.hooktheory.com/theorytab/view/helloween/a-tale-that-wasnt-right\n",
      "http://www.hooktheory.com/theorytab/view/daft-punk/aerodynamic\n",
      "http://www.hooktheory.com/theorytab/view/lindsey-stirling/shadows\n",
      "http://www.hooktheory.com/theorytab/view/mt-eden/sierra-leone\n",
      "http://www.hooktheory.com/theorytab/view/galantis/you\n",
      "http://www.hooktheory.com/theorytab/view/howard-skempton/lento\n",
      "http://www.hooktheory.com/theorytab/view/big-data/bombs-over-brooklyn\n",
      "http://www.hooktheory.com/theorytab/view/charli-xcx/nuclear-seasons\n",
      "http://www.hooktheory.com/theorytab/view/wellenrausch/citylights\n",
      "http://www.hooktheory.com/theorytab/view/bossfight/milky-ways\n",
      "http://www.hooktheory.com/theorytab/view/alunageorge/your-drums-your-love\n",
      "http://www.hooktheory.com/theorytab/view/gareth-emery-and-ashley-wallbridge/mansion\n",
      "http://www.hooktheory.com/theorytab/view/airbag/sounds-that-i-hear\n"
     ]
    }
   ],
   "source": [
    "mykey = '6,4,2,6'\n",
    "page = 2\n",
    "myData = requests.get(api_url+'trends/songs?cp='+mykey, headers=header)\n",
    "#myData = requests.get(api_url+'trends/songs?cp='+mykey+'&page='+str(page), headers=header)\n",
    "#print(myData.content)\n",
    "#print(len(myData.json()))\n",
    "#print(myData.json())\n",
    "dd = myData.json()\n",
    "for d in dd:\n",
    "    print(d['url'].split(\"#\")[0])"
   ]
  },
  {
   "cell_type": "code",
   "execution_count": 6,
   "id": "stretch-migration",
   "metadata": {},
   "outputs": [
    {
     "name": "stdout",
     "output_type": "stream",
     "text": [
      "b'[{\"artist\":\"Mai Kadowaki - Erika Nakai\",\"song\":\"Strike Witches - Sweet Duet\",\"section\":\"Chorus\",\"url\":\"http://www.hooktheory.com/theorytab/view/mai-kadowaki---erika-nakai/strike-witches---sweet-duet#chorus\"}]'\n",
      "b'[{\"artist\":\"Mai Kadowaki - Erika Nakai\",\"song\":\"Strike Witches - Sweet Duet\",\"section\":\"Chorus\",\"url\":\"http://www.hooktheory.com/theorytab/view/mai-kadowaki---erika-nakai/strike-witches---sweet-duet#chorus\"}]'\n",
      "b'[{\"artist\":\"Mai Kadowaki - Erika Nakai\",\"song\":\"Strike Witches - Sweet Duet\",\"section\":\"Chorus\",\"url\":\"http://www.hooktheory.com/theorytab/view/mai-kadowaki---erika-nakai/strike-witches---sweet-duet#chorus\"}]'\n",
      "b'[{\"artist\":\"Mai Kadowaki - Erika Nakai\",\"song\":\"Strike Witches - Sweet Duet\",\"section\":\"Chorus\",\"url\":\"http://www.hooktheory.com/theorytab/view/mai-kadowaki---erika-nakai/strike-witches---sweet-duet#chorus\"}]'\n",
      "b'[{\"artist\":\"Mai Kadowaki - Erika Nakai\",\"song\":\"Strike Witches - Sweet Duet\",\"section\":\"Chorus\",\"url\":\"http://www.hooktheory.com/theorytab/view/mai-kadowaki---erika-nakai/strike-witches---sweet-duet#chorus\"}]'\n",
      "b'[{\"artist\":\"Mai Kadowaki - Erika Nakai\",\"song\":\"Strike Witches - Sweet Duet\",\"section\":\"Chorus\",\"url\":\"http://www.hooktheory.com/theorytab/view/mai-kadowaki---erika-nakai/strike-witches---sweet-duet#chorus\"}]'\n",
      "b'<!DOCTYPE html>\\n<html lang=\"en-US\">\\n<head>\\n    <meta charset=\"UTF-8\"/>\\n    <meta name=\"viewport\" content=\"width=device-width, initial-scale=1\">\\n        <title>Too Many Requests (#429)</title>\\n    <link href=\"/assets/74843e75/css/bootstrap.css\" rel=\"stylesheet\">\\n<link href=\"/css/site.css\" rel=\"stylesheet\"></head>\\n<body>\\n\\n\\n\\t\\n        \\n        \\n\\t\\t<!--\\n\\t\\t\\t\\t-->\\n\\t\\t\\n\\t\\t<div class=\"site-error\">\\n\\n    <h1>Too Many Requests (#429)</h1>\\n\\n    <div class=\"alert alert-danger\">\\n        Rate limit exceeded.    </div>\\n\\n    <p>\\n        The above error occurred while the Web server was processing your request.\\n    </p>\\n    <p>\\n        Please contact us if you think this is a server error. Thank you.\\n    </p>\\n\\n</div>\\n\\n\\t<!--\\n    <footer class=\"footer\">\\n        <div class=\"container\">\\n            <p class=\"pull-left\">&copy; My Company 2021</p>\\n            <p class=\"pull-right\">Powered by <a href=\"http://www.yiiframework.com/\" rel=\"external\">Yii Framework</a></p>\\n        </div>\\n    </footer>\\n    -->\\n    \\n    \\n\\n<script src=\"/assets/75784cab/jquery.js\"></script>\\n<script src=\"/assets/8ff8c09/yii.js\"></script></body>\\n</html>\\n'\n",
      "b'<!DOCTYPE html>\\n<html lang=\"en-US\">\\n<head>\\n    <meta charset=\"UTF-8\"/>\\n    <meta name=\"viewport\" content=\"width=device-width, initial-scale=1\">\\n        <title>Too Many Requests (#429)</title>\\n    <link href=\"/assets/d99bf66/css/bootstrap.css\" rel=\"stylesheet\">\\n<link href=\"/css/site.css\" rel=\"stylesheet\"></head>\\n<body>\\n\\n\\n\\t\\n        \\n        \\n\\t\\t<!--\\n\\t\\t\\t\\t-->\\n\\t\\t\\n\\t\\t<div class=\"site-error\">\\n\\n    <h1>Too Many Requests (#429)</h1>\\n\\n    <div class=\"alert alert-danger\">\\n        Rate limit exceeded.    </div>\\n\\n    <p>\\n        The above error occurred while the Web server was processing your request.\\n    </p>\\n    <p>\\n        Please contact us if you think this is a server error. Thank you.\\n    </p>\\n\\n</div>\\n\\n\\t<!--\\n    <footer class=\"footer\">\\n        <div class=\"container\">\\n            <p class=\"pull-left\">&copy; My Company 2021</p>\\n            <p class=\"pull-right\">Powered by <a href=\"http://www.yiiframework.com/\" rel=\"external\">Yii Framework</a></p>\\n        </div>\\n    </footer>\\n    -->\\n    \\n    \\n\\n<script src=\"/assets/9b63f6bc/jquery.js\"></script>\\n<script src=\"/assets/208b3f99/yii.js\"></script></body>\\n</html>\\n'\n",
      "b'<!DOCTYPE html>\\n<html lang=\"en-US\">\\n<head>\\n    <meta charset=\"UTF-8\"/>\\n    <meta name=\"viewport\" content=\"width=device-width, initial-scale=1\">\\n        <title>Too Many Requests (#429)</title>\\n    <link href=\"/assets/74843e75/css/bootstrap.css\" rel=\"stylesheet\">\\n<link href=\"/css/site.css\" rel=\"stylesheet\"></head>\\n<body>\\n\\n\\n\\t\\n        \\n        \\n\\t\\t<!--\\n\\t\\t\\t\\t-->\\n\\t\\t\\n\\t\\t<div class=\"site-error\">\\n\\n    <h1>Too Many Requests (#429)</h1>\\n\\n    <div class=\"alert alert-danger\">\\n        Rate limit exceeded.    </div>\\n\\n    <p>\\n        The above error occurred while the Web server was processing your request.\\n    </p>\\n    <p>\\n        Please contact us if you think this is a server error. Thank you.\\n    </p>\\n\\n</div>\\n\\n\\t<!--\\n    <footer class=\"footer\">\\n        <div class=\"container\">\\n            <p class=\"pull-left\">&copy; My Company 2021</p>\\n            <p class=\"pull-right\">Powered by <a href=\"http://www.yiiframework.com/\" rel=\"external\">Yii Framework</a></p>\\n        </div>\\n    </footer>\\n    -->\\n    \\n    \\n\\n<script src=\"/assets/75784cab/jquery.js\"></script>\\n<script src=\"/assets/8ff8c09/yii.js\"></script></body>\\n</html>\\n'\n",
      "b'{\"name\":\"Too Many Requests\",\"message\":\"Rate limit exceeded.\",\"code\":0,\"status\":429}'\n",
      "b'<!DOCTYPE html>\\n<html lang=\"en-US\">\\n<head>\\n    <meta charset=\"UTF-8\"/>\\n    <meta name=\"viewport\" content=\"width=device-width, initial-scale=1\">\\n        <title>Too Many Requests (#429)</title>\\n    <link href=\"/assets/74843e75/css/bootstrap.css\" rel=\"stylesheet\">\\n<link href=\"/css/site.css\" rel=\"stylesheet\"></head>\\n<body>\\n\\n\\n\\t\\n        \\n        \\n\\t\\t<!--\\n\\t\\t\\t\\t-->\\n\\t\\t\\n\\t\\t<div class=\"site-error\">\\n\\n    <h1>Too Many Requests (#429)</h1>\\n\\n    <div class=\"alert alert-danger\">\\n        Rate limit exceeded.    </div>\\n\\n    <p>\\n        The above error occurred while the Web server was processing your request.\\n    </p>\\n    <p>\\n        Please contact us if you think this is a server error. Thank you.\\n    </p>\\n\\n</div>\\n\\n\\t<!--\\n    <footer class=\"footer\">\\n        <div class=\"container\">\\n            <p class=\"pull-left\">&copy; My Company 2021</p>\\n            <p class=\"pull-right\">Powered by <a href=\"http://www.yiiframework.com/\" rel=\"external\">Yii Framework</a></p>\\n        </div>\\n    </footer>\\n    -->\\n    \\n    \\n\\n<script src=\"/assets/75784cab/jquery.js\"></script>\\n<script src=\"/assets/8ff8c09/yii.js\"></script></body>\\n</html>\\n'\n",
      "b'<!DOCTYPE html>\\n<html lang=\"en-US\">\\n<head>\\n    <meta charset=\"UTF-8\"/>\\n    <meta name=\"viewport\" content=\"width=device-width, initial-scale=1\">\\n        <title>Too Many Requests (#429)</title>\\n    <link href=\"/assets/bbdf5e58/css/bootstrap.css\" rel=\"stylesheet\">\\n<link href=\"/css/site.css\" rel=\"stylesheet\"></head>\\n<body>\\n\\n\\n\\t\\n        \\n        \\n\\t\\t<!--\\n\\t\\t\\t\\t-->\\n\\t\\t\\n\\t\\t<div class=\"site-error\">\\n\\n    <h1>Too Many Requests (#429)</h1>\\n\\n    <div class=\"alert alert-danger\">\\n        Rate limit exceeded.    </div>\\n\\n    <p>\\n        The above error occurred while the Web server was processing your request.\\n    </p>\\n    <p>\\n        Please contact us if you think this is a server error. Thank you.\\n    </p>\\n\\n</div>\\n\\n\\t<!--\\n    <footer class=\"footer\">\\n        <div class=\"container\">\\n            <p class=\"pull-left\">&copy; My Company 2021</p>\\n            <p class=\"pull-right\">Powered by <a href=\"http://www.yiiframework.com/\" rel=\"external\">Yii Framework</a></p>\\n        </div>\\n    </footer>\\n    -->\\n    \\n    \\n\\n<script src=\"/assets/bd279c08/jquery.js\"></script>\\n<script src=\"/assets/c0a5c34/yii.js\"></script></body>\\n</html>\\n'\n",
      "b'<!DOCTYPE html>\\n<html lang=\"en-US\">\\n<head>\\n    <meta charset=\"UTF-8\"/>\\n    <meta name=\"viewport\" content=\"width=device-width, initial-scale=1\">\\n        <title>Too Many Requests (#429)</title>\\n    <link href=\"/assets/74843e75/css/bootstrap.css\" rel=\"stylesheet\">\\n<link href=\"/css/site.css\" rel=\"stylesheet\"></head>\\n<body>\\n\\n\\n\\t\\n        \\n        \\n\\t\\t<!--\\n\\t\\t\\t\\t-->\\n\\t\\t\\n\\t\\t<div class=\"site-error\">\\n\\n    <h1>Too Many Requests (#429)</h1>\\n\\n    <div class=\"alert alert-danger\">\\n        Rate limit exceeded.    </div>\\n\\n    <p>\\n        The above error occurred while the Web server was processing your request.\\n    </p>\\n    <p>\\n        Please contact us if you think this is a server error. Thank you.\\n    </p>\\n\\n</div>\\n\\n\\t<!--\\n    <footer class=\"footer\">\\n        <div class=\"container\">\\n            <p class=\"pull-left\">&copy; My Company 2021</p>\\n            <p class=\"pull-right\">Powered by <a href=\"http://www.yiiframework.com/\" rel=\"external\">Yii Framework</a></p>\\n        </div>\\n    </footer>\\n    -->\\n    \\n    \\n\\n<script src=\"/assets/75784cab/jquery.js\"></script>\\n<script src=\"/assets/8ff8c09/yii.js\"></script></body>\\n</html>\\n'\n"
     ]
    },
    {
     "name": "stdout",
     "output_type": "stream",
     "text": [
      "b'{\"name\":\"Too Many Requests\",\"message\":\"Rate limit exceeded.\",\"code\":0,\"status\":429}'\n",
      "b'<!DOCTYPE html>\\n<html lang=\"en-US\">\\n<head>\\n    <meta charset=\"UTF-8\"/>\\n    <meta name=\"viewport\" content=\"width=device-width, initial-scale=1\">\\n        <title>Too Many Requests (#429)</title>\\n    <link href=\"/assets/74843e75/css/bootstrap.css\" rel=\"stylesheet\">\\n<link href=\"/css/site.css\" rel=\"stylesheet\"></head>\\n<body>\\n\\n\\n\\t\\n        \\n        \\n\\t\\t<!--\\n\\t\\t\\t\\t-->\\n\\t\\t\\n\\t\\t<div class=\"site-error\">\\n\\n    <h1>Too Many Requests (#429)</h1>\\n\\n    <div class=\"alert alert-danger\">\\n        Rate limit exceeded.    </div>\\n\\n    <p>\\n        The above error occurred while the Web server was processing your request.\\n    </p>\\n    <p>\\n        Please contact us if you think this is a server error. Thank you.\\n    </p>\\n\\n</div>\\n\\n\\t<!--\\n    <footer class=\"footer\">\\n        <div class=\"container\">\\n            <p class=\"pull-left\">&copy; My Company 2021</p>\\n            <p class=\"pull-right\">Powered by <a href=\"http://www.yiiframework.com/\" rel=\"external\">Yii Framework</a></p>\\n        </div>\\n    </footer>\\n    -->\\n    \\n    \\n\\n<script src=\"/assets/75784cab/jquery.js\"></script>\\n<script src=\"/assets/8ff8c09/yii.js\"></script></body>\\n</html>\\n'\n",
      "b'<!DOCTYPE html>\\n<html lang=\"en-US\">\\n<head>\\n    <meta charset=\"UTF-8\"/>\\n    <meta name=\"viewport\" content=\"width=device-width, initial-scale=1\">\\n        <title>Too Many Requests (#429)</title>\\n    <link href=\"/assets/bbdf5e58/css/bootstrap.css\" rel=\"stylesheet\">\\n<link href=\"/css/site.css\" rel=\"stylesheet\"></head>\\n<body>\\n\\n\\n\\t\\n        \\n        \\n\\t\\t<!--\\n\\t\\t\\t\\t-->\\n\\t\\t\\n\\t\\t<div class=\"site-error\">\\n\\n    <h1>Too Many Requests (#429)</h1>\\n\\n    <div class=\"alert alert-danger\">\\n        Rate limit exceeded.    </div>\\n\\n    <p>\\n        The above error occurred while the Web server was processing your request.\\n    </p>\\n    <p>\\n        Please contact us if you think this is a server error. Thank you.\\n    </p>\\n\\n</div>\\n\\n\\t<!--\\n    <footer class=\"footer\">\\n        <div class=\"container\">\\n            <p class=\"pull-left\">&copy; My Company 2021</p>\\n            <p class=\"pull-right\">Powered by <a href=\"http://www.yiiframework.com/\" rel=\"external\">Yii Framework</a></p>\\n        </div>\\n    </footer>\\n    -->\\n    \\n    \\n\\n<script src=\"/assets/bd279c08/jquery.js\"></script>\\n<script src=\"/assets/c0a5c34/yii.js\"></script></body>\\n</html>\\n'\n",
      "b'{\"name\":\"Too Many Requests\",\"message\":\"Rate limit exceeded.\",\"code\":0,\"status\":429}'\n",
      "b'<!DOCTYPE html>\\n<html lang=\"en-US\">\\n<head>\\n    <meta charset=\"UTF-8\"/>\\n    <meta name=\"viewport\" content=\"width=device-width, initial-scale=1\">\\n        <title>Too Many Requests (#429)</title>\\n    <link href=\"/assets/74843e75/css/bootstrap.css\" rel=\"stylesheet\">\\n<link href=\"/css/site.css\" rel=\"stylesheet\"></head>\\n<body>\\n\\n\\n\\t\\n        \\n        \\n\\t\\t<!--\\n\\t\\t\\t\\t-->\\n\\t\\t\\n\\t\\t<div class=\"site-error\">\\n\\n    <h1>Too Many Requests (#429)</h1>\\n\\n    <div class=\"alert alert-danger\">\\n        Rate limit exceeded.    </div>\\n\\n    <p>\\n        The above error occurred while the Web server was processing your request.\\n    </p>\\n    <p>\\n        Please contact us if you think this is a server error. Thank you.\\n    </p>\\n\\n</div>\\n\\n\\t<!--\\n    <footer class=\"footer\">\\n        <div class=\"container\">\\n            <p class=\"pull-left\">&copy; My Company 2021</p>\\n            <p class=\"pull-right\">Powered by <a href=\"http://www.yiiframework.com/\" rel=\"external\">Yii Framework</a></p>\\n        </div>\\n    </footer>\\n    -->\\n    \\n    \\n\\n<script src=\"/assets/75784cab/jquery.js\"></script>\\n<script src=\"/assets/8ff8c09/yii.js\"></script></body>\\n</html>\\n'\n",
      "b'<!DOCTYPE html>\\n<html lang=\"en-US\">\\n<head>\\n    <meta charset=\"UTF-8\"/>\\n    <meta name=\"viewport\" content=\"width=device-width, initial-scale=1\">\\n        <title>Too Many Requests (#429)</title>\\n    <link href=\"/assets/d99bf66/css/bootstrap.css\" rel=\"stylesheet\">\\n<link href=\"/css/site.css\" rel=\"stylesheet\"></head>\\n<body>\\n\\n\\n\\t\\n        \\n        \\n\\t\\t<!--\\n\\t\\t\\t\\t-->\\n\\t\\t\\n\\t\\t<div class=\"site-error\">\\n\\n    <h1>Too Many Requests (#429)</h1>\\n\\n    <div class=\"alert alert-danger\">\\n        Rate limit exceeded.    </div>\\n\\n    <p>\\n        The above error occurred while the Web server was processing your request.\\n    </p>\\n    <p>\\n        Please contact us if you think this is a server error. Thank you.\\n    </p>\\n\\n</div>\\n\\n\\t<!--\\n    <footer class=\"footer\">\\n        <div class=\"container\">\\n            <p class=\"pull-left\">&copy; My Company 2021</p>\\n            <p class=\"pull-right\">Powered by <a href=\"http://www.yiiframework.com/\" rel=\"external\">Yii Framework</a></p>\\n        </div>\\n    </footer>\\n    -->\\n    \\n    \\n\\n<script src=\"/assets/9b63f6bc/jquery.js\"></script>\\n<script src=\"/assets/208b3f99/yii.js\"></script></body>\\n</html>\\n'\n",
      "b'<!DOCTYPE html>\\n<html lang=\"en-US\">\\n<head>\\n    <meta charset=\"UTF-8\"/>\\n    <meta name=\"viewport\" content=\"width=device-width, initial-scale=1\">\\n        <title>Too Many Requests (#429)</title>\\n    <link href=\"/assets/bbdf5e58/css/bootstrap.css\" rel=\"stylesheet\">\\n<link href=\"/css/site.css\" rel=\"stylesheet\"></head>\\n<body>\\n\\n\\n\\t\\n        \\n        \\n\\t\\t<!--\\n\\t\\t\\t\\t-->\\n\\t\\t\\n\\t\\t<div class=\"site-error\">\\n\\n    <h1>Too Many Requests (#429)</h1>\\n\\n    <div class=\"alert alert-danger\">\\n        Rate limit exceeded.    </div>\\n\\n    <p>\\n        The above error occurred while the Web server was processing your request.\\n    </p>\\n    <p>\\n        Please contact us if you think this is a server error. Thank you.\\n    </p>\\n\\n</div>\\n\\n\\t<!--\\n    <footer class=\"footer\">\\n        <div class=\"container\">\\n            <p class=\"pull-left\">&copy; My Company 2021</p>\\n            <p class=\"pull-right\">Powered by <a href=\"http://www.yiiframework.com/\" rel=\"external\">Yii Framework</a></p>\\n        </div>\\n    </footer>\\n    -->\\n    \\n    \\n\\n<script src=\"/assets/bd279c08/jquery.js\"></script>\\n<script src=\"/assets/c0a5c34/yii.js\"></script></body>\\n</html>\\n'\n"
     ]
    }
   ],
   "source": [
    "# discovered code was only saving new songs not already in genre_dict...\n",
    "mykey = '5,6,5/6,47'\n",
    "page = 1\n",
    "for i in range(20):\n",
    "    myData = requests.get(api_url+'trends/songs?cp='+mykey, headers=header)\n",
    "    #myData = requests.get(api_url+'trends/songs?cp='+mykey+'&page='+str(page), headers=header)\n",
    "    print(myData.content)\n",
    "    #print(len(myData.json()))\n",
    "    #print(myData.json())"
   ]
  },
  {
   "cell_type": "code",
   "execution_count": 15,
   "id": "aggressive-bearing",
   "metadata": {},
   "outputs": [
    {
     "name": "stdout",
     "output_type": "stream",
     "text": [
      "<Response [429]>\n",
      "True\n"
     ]
    }
   ],
   "source": [
    "print(myData)\n",
    "print(str(myData)==\"<Response [429]>\")"
   ]
  }
 ],
 "metadata": {
  "kernelspec": {
   "display_name": "Python 3",
   "language": "python",
   "name": "python3"
  },
  "language_info": {
   "codemirror_mode": {
    "name": "ipython",
    "version": 3
   },
   "file_extension": ".py",
   "mimetype": "text/x-python",
   "name": "python",
   "nbconvert_exporter": "python",
   "pygments_lexer": "ipython3",
   "version": "3.6.12"
  }
 },
 "nbformat": 4,
 "nbformat_minor": 5
}
